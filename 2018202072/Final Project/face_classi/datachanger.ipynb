{
 "cells": [
  {
   "cell_type": "code",
   "execution_count": 7,
   "metadata": {},
   "outputs": [
    {
     "name": "stdout",
     "output_type": "stream",
     "text": [
      "uint8\n"
     ]
    }
   ],
   "source": [
    "from PIL import Image\n",
    "import numpy as np\n",
    "# 打开一张图片，并转换为np数组\n",
    "raw_image=Image.open(\"ORL/s32/1.bmp\")\n",
    "#raw_image=Image.open(\"prediction1.jpg\")\n",
    "image_array=np.array(raw_image)\n",
    "# 将图像数据数组保存到npy文件中去\n",
    "print(image_array.dtypepe)"
   ]
  },
  {
   "cell_type": "code",
   "execution_count": 42,
   "metadata": {},
   "outputs": [],
   "source": [
    "def get_imlist(part): \n",
    "\n",
    "    filename=[]\n",
    "    base='ORL/s'\n",
    "    if part==1:\n",
    "        for i in range(40):\n",
    "            for j in range(7):\n",
    "                file=base+str(i+1)+'/'+str(j+1)+'.bmp'\n",
    "                filename.append(file)\n",
    "                \n",
    "    else:\n",
    "        for i in range(40):\n",
    "            for j in range(7,10):\n",
    "                file=base+str(i+1)+'/'+str(j+1)+'.bmp'\n",
    "                filename.append(file)\n",
    "    return filename\n",
    "\n"
   ]
  },
  {
   "cell_type": "code",
   "execution_count": 19,
   "metadata": {},
   "outputs": [],
   "source": [
    "def Imagetoarray(d,filename,data):\n",
    "    while d>0:\n",
    "        \n",
    "    # filename是存放指定路径下所有文件完整路径字符串的一维数组\n",
    "    # 从0开始索引，一开始读取最后一张图片\n",
    "        img=Image.open(filename[d-1])\n",
    "    # 将图片转化为数组\n",
    "        img_ndarray=np.array(img)\n",
    "    #print(img_ndarray.shape)\n",
    "    # 将第d-1张图片的数据给data的第d-1个，达到一一对应的关系\n",
    "        data[d-1]=img_ndarray\n",
    "    # 下一张\n",
    "        d=d-1\n",
    "    print (\"data.shape:\",data.shape)"
   ]
  },
  {
   "cell_type": "code",
   "execution_count": 51,
   "metadata": {
    "scrolled": true
   },
   "outputs": [
    {
     "name": "stdout",
     "output_type": "stream",
     "text": [
      "data.shape: (280, 112, 92)\n",
      "data.shape: (120, 112, 92)\n"
     ]
    }
   ],
   "source": [
    "filetrain=get_imlist(1)\n",
    "filetest=get_imlist(0)\n",
    "\n",
    "dtrain=len(filetrain)\n",
    "dtest=len(filetest)\n",
    "#print(filetest)\n",
    "# 创建一个4维的空数组，可以容纳d张64*64的三通道图像数据\n",
    "trainX=np.empty((dtrain,112,92),dtype=np.uint8)\n",
    "testX=np.empty((dtest,112,92),dtype=np.uint8)\n",
    "\n",
    "Imagetoarray(dtrain,filetrain,trainX)\n",
    "Imagetoarray(dtest,filetest,testX)\n",
    "\n"
   ]
  },
  {
   "cell_type": "code",
   "execution_count": 69,
   "metadata": {},
   "outputs": [],
   "source": [
    "\n",
    "def labelset(part):\n",
    "    data=np.empty((40*part),dtype=np.long)\n",
    "    count=0\n",
    "    for i in range(40):\n",
    "        for j in range(part):\n",
    "            data[count]=i\n",
    "            count+=1\n",
    "    return data"
   ]
  },
  {
   "cell_type": "code",
   "execution_count": 72,
   "metadata": {},
   "outputs": [
    {
     "name": "stdout",
     "output_type": "stream",
     "text": [
      "(280,)\n",
      "(120,)\n"
     ]
    }
   ],
   "source": [
    "trainY=labelset(7)\n",
    "testY=labelset(3)\n",
    "\n",
    "print(trainY.shape)\n",
    "print(testY.shape)\n",
    "\n",
    "#print(trainY.dtype)\n",
    "\n",
    "#np.savez('ORL_face.npz', trainX=trainX,trainY=trainY,testX=testX,testY=testY)\n"
   ]
  },
  {
   "cell_type": "code",
   "execution_count": 68,
   "metadata": {},
   "outputs": [
    {
     "name": "stdout",
     "output_type": "stream",
     "text": [
      "int32\n"
     ]
    }
   ],
   "source": [
    "data=np.ones((40*3),dtype=np.long)\n",
    "print(data.dtype)"
   ]
  },
  {
   "cell_type": "code",
   "execution_count": 54,
   "metadata": {},
   "outputs": [],
   "source": [
    "data_new=np.load('ORL_face.npz');\n",
    "img=Image.fromarray(data_new['trainX'][0]);\n",
    "img.show()"
   ]
  }
 ],
 "metadata": {
  "kernelspec": {
   "display_name": "Python 3",
   "language": "python",
   "name": "python3"
  },
  "language_info": {
   "codemirror_mode": {
    "name": "ipython",
    "version": 3
   },
   "file_extension": ".py",
   "mimetype": "text/x-python",
   "name": "python",
   "nbconvert_exporter": "python",
   "pygments_lexer": "ipython3",
   "version": "3.7.7"
  }
 },
 "nbformat": 4,
 "nbformat_minor": 4
}
