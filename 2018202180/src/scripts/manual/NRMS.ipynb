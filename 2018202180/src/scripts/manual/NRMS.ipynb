{
 "metadata": {
  "language_info": {
   "codemirror_mode": {
    "name": "ipython",
    "version": 3
   },
   "file_extension": ".py",
   "mimetype": "text/x-python",
   "name": "python",
   "nbconvert_exporter": "python",
   "pygments_lexer": "ipython3",
   "version": "3.7.9-final"
  },
  "orig_nbformat": 2,
  "kernelspec": {
   "name": "python37964bit4c03300bedca44f8b0013abe02048abc",
   "display_name": "Python 3.7.9 64-bit",
   "language": "python"
  }
 },
 "nbformat": 4,
 "nbformat_minor": 2,
 "cells": [
  {
   "cell_type": "code",
   "execution_count": 1,
   "metadata": {},
   "outputs": [],
   "source": [
    "import os\n",
    "import sys\n",
    "os.chdir('/home/peitian_zhang/Codes/NR')\n",
    "sys.path.append('/home/peitian_zhang/Codes/NR')\n",
    "\n",
    "import math\n",
    "import torch\n",
    "import torch.nn as nn\n",
    "import torch.optim as optim\n",
    "from datetime import datetime\n",
    "from torchtext.vocab import GloVe\n",
    "from torch.utils.data import DataLoader\n",
    "from torch.utils.tensorboard import SummaryWriter\n",
    "from utils.MIND import MIND_iter,MIND_map\n",
    "from utils.utils import getLoss,getLabel,constructBasicDict,run_eval,run_train\n",
    "from models.NRMS import NRMSModel\n",
    "\n",
    "hparams = {\n",
    "    'mode':'demo',\n",
    "    'name':'nrms',\n",
    "    'epochs':10,\n",
    "    'batch_size':5,\n",
    "    'title_size':20,\n",
    "    'his_size':20,\n",
    "    'npratio':4,\n",
    "    'dropout_p':0.2,\n",
    "    'query_dim':200,\n",
    "    'embedding_dim':300,\n",
    "    'value_dim':16,\n",
    "    'head_num':16,\n",
    "    'kernel_num':11,\n",
    "    'metrics':'group_auc,ndcg@5,ndcg@10,mean_mrr',\n",
    "    'device':'cuda:0',\n",
    "    'attrs': ['title'],\n",
    "}\n",
    "\n",
    "news_file_train = '/home/peitian_zhang/Data/MIND/MIND'+hparams['mode']+'_train/news.tsv'\n",
    "news_file_test = '/home/peitian_zhang/Data/MIND/MIND'+hparams['mode']+'_dev/news.tsv'\n",
    "news_file_pair = (news_file_train,news_file_test)\n",
    "\n",
    "behavior_file_train = '/home/peitian_zhang/Data/MIND/MIND'+hparams['mode']+'_train/behaviors.tsv'\n",
    "behavior_file_test = '/home/peitian_zhang/Data/MIND/MIND'+hparams['mode']+'_dev/behaviors.tsv'\n",
    "behavior_file_pair = (behavior_file_train,behavior_file_test)\n",
    "\n",
    "save_path = 'models/model_params/{}_{}_{}'.format(hparams['name'],hparams['mode'],hparams['epochs']) +'.model'\n",
    "\n",
    "if not os.path.exists('data/dictionaries/vocab_{}_{}.pkl'.format(hparams['mode'],'_'.join(hparams['attrs']))):\n",
    "    constructBasicDict(news_file_pair,behavior_file_pair,hparams['mode'],hparams['attrs'])\n",
    "\n",
    "device = torch.device(hparams['device']) if torch.cuda.is_available() else torch.device(\"cpu\")\n",
    "\n",
    "dataset_train = MIND_map(hparams=hparams,news_file=news_file_train,behaviors_file=behavior_file_train)\n",
    "\n",
    "dataset_test = MIND_iter(hparams=hparams,news_file=news_file_test,behaviors_file=behavior_file_test, mode='test')\n",
    "\n",
    "vocab = dataset_train.vocab\n",
    "embedding = GloVe(dim=300,cache='.vector_cache')\n",
    "vocab.load_vectors(embedding)\n",
    "\n",
    "loader_train = DataLoader(dataset_train,batch_size=hparams['batch_size'],shuffle=True,pin_memory=True,num_workers=3,drop_last=True)\n",
    "loader_test = DataLoader(dataset_test,batch_size=hparams['batch_size'],pin_memory=True,num_workers=0,drop_last=True)"
   ]
  },
  {
   "cell_type": "code",
   "execution_count": 2,
   "metadata": {},
   "outputs": [
    {
     "output_type": "execute_result",
     "data": {
      "text/plain": [
       "NRMSModel(\n",
       "  (softmax): Softmax(dim=-1)\n",
       "  (ReLU): ReLU()\n",
       "  (DropOut): Dropout(p=0.2, inplace=False)\n",
       "  (queryProject_words): ModuleList(\n",
       "    (0): Linear(in_features=300, out_features=300, bias=False)\n",
       "    (1): Linear(in_features=300, out_features=300, bias=False)\n",
       "    (2): Linear(in_features=300, out_features=300, bias=False)\n",
       "    (3): Linear(in_features=300, out_features=300, bias=False)\n",
       "    (4): Linear(in_features=300, out_features=300, bias=False)\n",
       "    (5): Linear(in_features=300, out_features=300, bias=False)\n",
       "    (6): Linear(in_features=300, out_features=300, bias=False)\n",
       "    (7): Linear(in_features=300, out_features=300, bias=False)\n",
       "    (8): Linear(in_features=300, out_features=300, bias=False)\n",
       "    (9): Linear(in_features=300, out_features=300, bias=False)\n",
       "    (10): Linear(in_features=300, out_features=300, bias=False)\n",
       "    (11): Linear(in_features=300, out_features=300, bias=False)\n",
       "    (12): Linear(in_features=300, out_features=300, bias=False)\n",
       "    (13): Linear(in_features=300, out_features=300, bias=False)\n",
       "    (14): Linear(in_features=300, out_features=300, bias=False)\n",
       "    (15): Linear(in_features=300, out_features=300, bias=False)\n",
       "  )\n",
       "  (queryProject_news): ModuleList(\n",
       "    (0): Linear(in_features=256, out_features=256, bias=False)\n",
       "    (1): Linear(in_features=256, out_features=256, bias=False)\n",
       "    (2): Linear(in_features=256, out_features=256, bias=False)\n",
       "    (3): Linear(in_features=256, out_features=256, bias=False)\n",
       "    (4): Linear(in_features=256, out_features=256, bias=False)\n",
       "    (5): Linear(in_features=256, out_features=256, bias=False)\n",
       "    (6): Linear(in_features=256, out_features=256, bias=False)\n",
       "    (7): Linear(in_features=256, out_features=256, bias=False)\n",
       "    (8): Linear(in_features=256, out_features=256, bias=False)\n",
       "    (9): Linear(in_features=256, out_features=256, bias=False)\n",
       "    (10): Linear(in_features=256, out_features=256, bias=False)\n",
       "    (11): Linear(in_features=256, out_features=256, bias=False)\n",
       "    (12): Linear(in_features=256, out_features=256, bias=False)\n",
       "    (13): Linear(in_features=256, out_features=256, bias=False)\n",
       "    (14): Linear(in_features=256, out_features=256, bias=False)\n",
       "    (15): Linear(in_features=256, out_features=256, bias=False)\n",
       "  )\n",
       "  (valueProject_words): ModuleList(\n",
       "    (0): Linear(in_features=300, out_features=16, bias=False)\n",
       "    (1): Linear(in_features=300, out_features=16, bias=False)\n",
       "    (2): Linear(in_features=300, out_features=16, bias=False)\n",
       "    (3): Linear(in_features=300, out_features=16, bias=False)\n",
       "    (4): Linear(in_features=300, out_features=16, bias=False)\n",
       "    (5): Linear(in_features=300, out_features=16, bias=False)\n",
       "    (6): Linear(in_features=300, out_features=16, bias=False)\n",
       "    (7): Linear(in_features=300, out_features=16, bias=False)\n",
       "    (8): Linear(in_features=300, out_features=16, bias=False)\n",
       "    (9): Linear(in_features=300, out_features=16, bias=False)\n",
       "    (10): Linear(in_features=300, out_features=16, bias=False)\n",
       "    (11): Linear(in_features=300, out_features=16, bias=False)\n",
       "    (12): Linear(in_features=300, out_features=16, bias=False)\n",
       "    (13): Linear(in_features=300, out_features=16, bias=False)\n",
       "    (14): Linear(in_features=300, out_features=16, bias=False)\n",
       "    (15): Linear(in_features=300, out_features=16, bias=False)\n",
       "  )\n",
       "  (valueProject_news): ModuleList(\n",
       "    (0): Linear(in_features=256, out_features=16, bias=False)\n",
       "    (1): Linear(in_features=256, out_features=16, bias=False)\n",
       "    (2): Linear(in_features=256, out_features=16, bias=False)\n",
       "    (3): Linear(in_features=256, out_features=16, bias=False)\n",
       "    (4): Linear(in_features=256, out_features=16, bias=False)\n",
       "    (5): Linear(in_features=256, out_features=16, bias=False)\n",
       "    (6): Linear(in_features=256, out_features=16, bias=False)\n",
       "    (7): Linear(in_features=256, out_features=16, bias=False)\n",
       "    (8): Linear(in_features=256, out_features=16, bias=False)\n",
       "    (9): Linear(in_features=256, out_features=16, bias=False)\n",
       "    (10): Linear(in_features=256, out_features=16, bias=False)\n",
       "    (11): Linear(in_features=256, out_features=16, bias=False)\n",
       "    (12): Linear(in_features=256, out_features=16, bias=False)\n",
       "    (13): Linear(in_features=256, out_features=16, bias=False)\n",
       "    (14): Linear(in_features=256, out_features=16, bias=False)\n",
       "    (15): Linear(in_features=256, out_features=16, bias=False)\n",
       "  )\n",
       "  (keyProject_words): Linear(in_features=256, out_features=200, bias=True)\n",
       "  (keyProject_news): Linear(in_features=256, out_features=200, bias=True)\n",
       "  (learningToRank): Linear(in_features=256, out_features=1, bias=True)\n",
       ")"
      ]
     },
     "metadata": {},
     "execution_count": 2
    }
   ],
   "source": [
    "nrmsModel = NRMSModel(vocab=vocab,hparams=hparams).to(device)\n",
    "nrmsModel.train()\n",
    "\n",
    "# nrmsModel.load_state_dict(torch.load(save_path))\n",
    "# nrmsModel.eval()"
   ]
  },
  {
   "cell_type": "code",
   "execution_count": 3,
   "metadata": {},
   "outputs": [
    {
     "output_type": "stream",
     "name": "stdout",
     "text": [
      "training...\n",
      "epoch 0 , step 50 , loss: 1.6295: : 57it [00:03, 16.65it/s]\n"
     ]
    },
    {
     "output_type": "error",
     "ename": "KeyboardInterrupt",
     "evalue": "",
     "traceback": [
      "\u001b[0;31m---------------------------------------------------------------------------\u001b[0m",
      "\u001b[0;31mKeyboardInterrupt\u001b[0m                         Traceback (most recent call last)",
      "\u001b[0;32m<ipython-input-3-ceabe6801785>\u001b[0m in \u001b[0;36m<module>\u001b[0;34m\u001b[0m\n\u001b[1;32m      3\u001b[0m     \u001b[0mloss_func\u001b[0m \u001b[0;34m=\u001b[0m \u001b[0mgetLoss\u001b[0m\u001b[0;34m(\u001b[0m\u001b[0mnrmsModel\u001b[0m\u001b[0;34m)\u001b[0m\u001b[0;34m\u001b[0m\u001b[0;34m\u001b[0m\u001b[0m\n\u001b[1;32m      4\u001b[0m     \u001b[0moptimizer\u001b[0m \u001b[0;34m=\u001b[0m \u001b[0moptim\u001b[0m\u001b[0;34m.\u001b[0m\u001b[0mAdam\u001b[0m\u001b[0;34m(\u001b[0m\u001b[0mnrmsModel\u001b[0m\u001b[0;34m.\u001b[0m\u001b[0mparameters\u001b[0m\u001b[0;34m(\u001b[0m\u001b[0;34m)\u001b[0m\u001b[0;34m,\u001b[0m\u001b[0mlr\u001b[0m\u001b[0;34m=\u001b[0m\u001b[0;36m0.001\u001b[0m\u001b[0;34m)\u001b[0m\u001b[0;34m\u001b[0m\u001b[0;34m\u001b[0m\u001b[0m\n\u001b[0;32m----> 5\u001b[0;31m     \u001b[0mnrmsModel\u001b[0m \u001b[0;34m=\u001b[0m \u001b[0mrun_train\u001b[0m\u001b[0;34m(\u001b[0m\u001b[0mnrmsModel\u001b[0m\u001b[0;34m,\u001b[0m\u001b[0mloader_train\u001b[0m\u001b[0;34m,\u001b[0m\u001b[0moptimizer\u001b[0m\u001b[0;34m,\u001b[0m\u001b[0mloss_func\u001b[0m\u001b[0;34m,\u001b[0m\u001b[0mepochs\u001b[0m\u001b[0;34m=\u001b[0m\u001b[0mhparams\u001b[0m\u001b[0;34m[\u001b[0m\u001b[0;34m'epochs'\u001b[0m\u001b[0;34m]\u001b[0m\u001b[0;34m,\u001b[0m \u001b[0minterval\u001b[0m\u001b[0;34m=\u001b[0m\u001b[0;36m10\u001b[0m\u001b[0;34m)\u001b[0m\u001b[0;34m\u001b[0m\u001b[0;34m\u001b[0m\u001b[0m\n\u001b[0m",
      "\u001b[0;32m~/Codes/NR/utils/utils.py\u001b[0m in \u001b[0;36mrun_train\u001b[0;34m(model, dataloader, optimizer, loss_func, writer, epochs, interval, hparams)\u001b[0m\n\u001b[1;32m    525\u001b[0m             \u001b[0mloss\u001b[0m\u001b[0;34m.\u001b[0m\u001b[0mbackward\u001b[0m\u001b[0;34m(\u001b[0m\u001b[0;34m)\u001b[0m\u001b[0;34m\u001b[0m\u001b[0;34m\u001b[0m\u001b[0m\n\u001b[1;32m    526\u001b[0m             \u001b[0moptimizer\u001b[0m\u001b[0;34m.\u001b[0m\u001b[0mstep\u001b[0m\u001b[0;34m(\u001b[0m\u001b[0;34m)\u001b[0m\u001b[0;34m\u001b[0m\u001b[0;34m\u001b[0m\u001b[0m\n\u001b[0;32m--> 527\u001b[0;31m             \u001b[0moptimizer\u001b[0m\u001b[0;34m.\u001b[0m\u001b[0mzero_grad\u001b[0m\u001b[0;34m(\u001b[0m\u001b[0;34m)\u001b[0m\u001b[0;34m\u001b[0m\u001b[0;34m\u001b[0m\u001b[0m\n\u001b[0m\u001b[1;32m    528\u001b[0m \u001b[0;34m\u001b[0m\u001b[0m\n\u001b[1;32m    529\u001b[0m             \u001b[0;32mif\u001b[0m \u001b[0mstep\u001b[0m \u001b[0;34m%\u001b[0m \u001b[0minterval\u001b[0m \u001b[0;34m==\u001b[0m \u001b[0;36m0\u001b[0m\u001b[0;34m:\u001b[0m\u001b[0;34m\u001b[0m\u001b[0;34m\u001b[0m\u001b[0m\n",
      "\u001b[0;32m~/anaconda3/envs/nn/lib/python3.7/site-packages/torch/optim/optimizer.py\u001b[0m in \u001b[0;36mzero_grad\u001b[0;34m(self)\u001b[0m\n\u001b[1;32m    170\u001b[0m                 \u001b[0;32mif\u001b[0m \u001b[0mp\u001b[0m\u001b[0;34m.\u001b[0m\u001b[0mgrad\u001b[0m \u001b[0;32mis\u001b[0m \u001b[0;32mnot\u001b[0m \u001b[0;32mNone\u001b[0m\u001b[0;34m:\u001b[0m\u001b[0;34m\u001b[0m\u001b[0;34m\u001b[0m\u001b[0m\n\u001b[1;32m    171\u001b[0m                     \u001b[0mp\u001b[0m\u001b[0;34m.\u001b[0m\u001b[0mgrad\u001b[0m\u001b[0;34m.\u001b[0m\u001b[0mdetach_\u001b[0m\u001b[0;34m(\u001b[0m\u001b[0;34m)\u001b[0m\u001b[0;34m\u001b[0m\u001b[0;34m\u001b[0m\u001b[0m\n\u001b[0;32m--> 172\u001b[0;31m                     \u001b[0mp\u001b[0m\u001b[0;34m.\u001b[0m\u001b[0mgrad\u001b[0m\u001b[0;34m.\u001b[0m\u001b[0mzero_\u001b[0m\u001b[0;34m(\u001b[0m\u001b[0;34m)\u001b[0m\u001b[0;34m\u001b[0m\u001b[0;34m\u001b[0m\u001b[0m\n\u001b[0m\u001b[1;32m    173\u001b[0m \u001b[0;34m\u001b[0m\u001b[0m\n\u001b[1;32m    174\u001b[0m     \u001b[0;32mdef\u001b[0m \u001b[0mstep\u001b[0m\u001b[0;34m(\u001b[0m\u001b[0mself\u001b[0m\u001b[0;34m,\u001b[0m \u001b[0mclosure\u001b[0m\u001b[0;34m)\u001b[0m\u001b[0;34m:\u001b[0m\u001b[0;34m\u001b[0m\u001b[0;34m\u001b[0m\u001b[0m\n",
      "\u001b[0;31mKeyboardInterrupt\u001b[0m: "
     ]
    }
   ],
   "source": [
    "if nrmsModel.training:\n",
    "    print(\"training...\")\n",
    "    loss_func = getLoss(nrmsModel)\n",
    "    optimizer = optim.Adam(nrmsModel.parameters(),lr=0.001)\n",
    "    nrmsModel = run_train(nrmsModel,loader_train,optimizer,loss_func,epochs=hparams['epochs'], interval=10)"
   ]
  },
  {
   "cell_type": "code",
   "execution_count": 5,
   "metadata": {},
   "outputs": [
    {
     "output_type": "stream",
     "name": "stderr",
     "text": [
      "0it [00:00, ?it/s]evaluating...\n",
      "2191it [01:26, 25.34it/s]\n"
     ]
    },
    {
     "output_type": "execute_result",
     "data": {
      "text/plain": [
       "{'group_auc': 0.5452, 'ndcg@5': 0.2576, 'ndcg@10': 0.3175, 'mean_mrr': 0.239}"
      ]
     },
     "metadata": {},
     "execution_count": 5
    }
   ],
   "source": [
    "print(\"evaluating...\")\n",
    "nrmsModel.eval()\n",
    "nrmsModel.cdd_size = 1\n",
    "run_eval(nrmsModel,loader_test)"
   ]
  },
  {
   "cell_type": "code",
   "execution_count": 9,
   "metadata": {},
   "outputs": [],
   "source": [
    "nrmsModel.cdd_size = 5\n",
    "torch.save(nrmsModel.state_dict(), save_path)"
   ]
  },
  {
   "cell_type": "code",
   "execution_count": null,
   "metadata": {},
   "outputs": [],
   "source": []
  }
 ]
}