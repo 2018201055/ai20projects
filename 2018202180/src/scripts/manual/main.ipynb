{
 "metadata": {
  "language_info": {
   "codemirror_mode": {
    "name": "ipython",
    "version": 3
   },
   "file_extension": ".py",
   "mimetype": "text/x-python",
   "name": "python",
   "nbconvert_exporter": "python",
   "pygments_lexer": "ipython3",
   "version": "3.7.9-final"
  },
  "orig_nbformat": 2,
  "kernelspec": {
   "name": "python37964bit4c03300bedca44f8b0013abe02048abc",
   "display_name": "Python 3.7.9 64-bit",
   "language": "python"
  }
 },
 "nbformat": 4,
 "nbformat_minor": 2,
 "cells": [
  {
   "cell_type": "code",
   "execution_count": 1,
   "metadata": {},
   "outputs": [],
   "source": [
    "import os\n",
    "import sys\n",
    "os.chdir('/home/peitian_zhang/Codes/NR')\n",
    "sys.path.append('/home/peitian_zhang/Codes/NR')"
   ]
  },
  {
   "cell_type": "code",
   "execution_count": 2,
   "metadata": {},
   "outputs": [
    {
     "output_type": "stream",
     "name": "stdout",
     "text": [
      "tensor([[[0.6065, 1.0000, 0.6069, 0.0000],\n         [0.6065, 1.0000, 0.6069, 0.0000]],\n\n        [[0.6065, 1.0000, 0.6069, 0.0000],\n         [0.6065, 1.0000, 0.6069, 0.0000]]])\n"
     ]
    }
   ],
   "source": [
    "t = torch.tensor([[[1.,0.5,0.],[0.5,0,1]],[[0.5,0,1],[1,0.5,0]]])\n",
    "a,b = knrm._kernel_pooling(t)"
   ]
  },
  {
   "cell_type": "code",
   "execution_count": 2,
   "metadata": {},
   "outputs": [
    {
     "output_type": "execute_result",
     "data": {
      "text/plain": [
       "tensor([[1.0000, 1.0000, 1.0000],\n",
       "        [1.0000, 1.0000, 1.0000]])"
      ]
     },
     "metadata": {},
     "execution_count": 2
    }
   ],
   "source": [
    "import torch\n",
    "a = torch.nn.Softmax(dim=-1)\n",
    "b = torch.rand((2,3,3))\n",
    "a(b)\n",
    "torch.sum(a(b),dim=-1)"
   ]
  },
  {
   "cell_type": "code",
   "execution_count": 14,
   "metadata": {},
   "outputs": [
    {
     "output_type": "execute_result",
     "data": {
      "text/plain": [
       "(tensor([[[0.7002, 0.9531, 0.7439],\n",
       "          [0.4457, 0.5116, 0.6311]]]),\n",
       " tensor([[[0.7002],\n",
       "          [0.4457]],\n",
       " \n",
       "         [[0.9531],\n",
       "          [0.5116]],\n",
       " \n",
       "         [[0.7439],\n",
       "          [0.6311]]]))"
      ]
     },
     "metadata": {},
     "execution_count": 14
    }
   ],
   "source": [
    "a = [torch.rand((1,2)) for _ in range(3)]\n",
    "a = torch.rand((1,2))\n",
    "a  = torch.rand((1,2,3))\n",
    "a,a.transpose(-1,0)"
   ]
  },
  {
   "cell_type": "code",
   "execution_count": 6,
   "metadata": {},
   "outputs": [
    {
     "output_type": "execute_result",
     "data": {
      "text/plain": [
       "(tensor([[0.6069, 0.6069],\n",
       "         [0.6069, 0.6069]]),\n",
       " tensor([-0.9989, -0.9989]))"
      ]
     },
     "metadata": {},
     "execution_count": 6
    }
   ],
   "source": [
    "b, torch.sum(torch.log(b),dim=1)\n"
   ]
  },
  {
   "cell_type": "code",
   "execution_count": 2,
   "metadata": {},
   "outputs": [],
   "source": [
    "from torch.utils.tensorboard import SummaryWriter\n",
    "writer = SummaryWriter('data/test')"
   ]
  },
  {
   "cell_type": "code",
   "execution_count": 5,
   "metadata": {},
   "outputs": [
    {
     "output_type": "stream",
     "name": "stdout",
     "text": [
      "warning: Embedding dir exists, did you set global_step for add_embedding()?\n"
     ]
    }
   ],
   "source": [
    "import torch\n",
    "writer.add_embedding(torch.rand((5,5)),meta)"
   ]
  },
  {
   "cell_type": "code",
   "execution_count": null,
   "metadata": {},
   "outputs": [],
   "source": []
  }
 ]
}