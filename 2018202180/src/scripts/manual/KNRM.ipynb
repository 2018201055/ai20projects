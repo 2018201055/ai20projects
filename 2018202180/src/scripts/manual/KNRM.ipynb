{
 "metadata": {
  "language_info": {
   "codemirror_mode": {
    "name": "ipython",
    "version": 3
   },
   "file_extension": ".py",
   "mimetype": "text/x-python",
   "name": "python",
   "nbconvert_exporter": "python",
   "pygments_lexer": "ipython3",
   "version": "3.7.9-final"
  },
  "orig_nbformat": 2,
  "kernelspec": {
   "name": "python37964bit4c03300bedca44f8b0013abe02048abc",
   "display_name": "Python 3.7.9 64-bit",
   "language": "python"
  }
 },
 "nbformat": 4,
 "nbformat_minor": 2,
 "cells": [
  {
   "cell_type": "code",
   "execution_count": 5,
   "metadata": {},
   "outputs": [],
   "source": [
    "import os\n",
    "import sys\n",
    "os.chdir('/home/peitian_zhang/Codes/NR')\n",
    "sys.path.append('/home/peitian_zhang/Codes/NR')\n",
    "\n",
    "import math\n",
    "import torch\n",
    "import torch.nn as nn\n",
    "import torch.optim as optim\n",
    "from datetime import datetime\n",
    "from torchtext.vocab import GloVe\n",
    "from torch.utils.data import DataLoader\n",
    "from torch.utils.tensorboard import SummaryWriter\n",
    "from utils.MIND import MIND_iter,MIND_map\n",
    "from utils.utils import getLoss,getLabel,constructBasicDict,run_eval,run_train\n",
    "from models.KNRM import KNRMModel\n",
    "\n",
    "hparams = {\n",
    "    'mode':'demo',\n",
    "    'name':'knrm',\n",
    "    'epochs':10,\n",
    "    'batch_size':5,\n",
    "    'title_size':20,\n",
    "    'his_size':20,\n",
    "    'npratio':4,\n",
    "    'embedding_dim':300,\n",
    "    'kernel_num':11,\n",
    "    'metrics':'group_auc,ndcg@5,ndcg@10,mean_mrr',\n",
    "    'device':'cuda:0',\n",
    "    'attrs': ['title'],\n",
    "}\n",
    "\n",
    "news_file_train = '/home/peitian_zhang/Data/MIND/MIND'+hparams['mode']+'_train/news.tsv'\n",
    "news_file_test = '/home/peitian_zhang/Data/MIND/MIND'+hparams['mode']+'_dev/news.tsv'\n",
    "news_file_pair = (news_file_train,news_file_test)\n",
    "\n",
    "behavior_file_train = '/home/peitian_zhang/Data/MIND/MIND'+hparams['mode']+'_train/behaviors.tsv'\n",
    "behavior_file_test = '/home/peitian_zhang/Data/MIND/MIND'+hparams['mode']+'_dev/behaviors.tsv'\n",
    "behavior_file_pair = (behavior_file_train,behavior_file_test)\n",
    "\n",
    "save_path = 'models/model_params/{}_{}_{}'.format(hparams['name'],hparams['mode'],hparams['epochs']) +'.model'\n",
    "\n",
    "if not os.path.exists('data/dictionaries/vocab_{}_{}.pkl'.format(hparams['mode'],'_'.join(hparams['attrs']))):\n",
    "    constructBasicDict(news_file_pair,behavior_file_pair,hparams['mode'],hparams['attrs'])\n",
    "\n",
    "device = torch.device(hparams['device']) if torch.cuda.is_available() else torch.device(\"cpu\")\n",
    "\n",
    "dataset_train = MIND_map(hparams=hparams,news_file=news_file_train,behaviors_file=behavior_file_train)\n",
    "\n",
    "dataset_test = MIND_iter(hparams=hparams,news_file=news_file_test,behaviors_file=behavior_file_test, mode='test')\n",
    "\n",
    "vocab = dataset_train.vocab\n",
    "embedding = GloVe(dim=300,cache='.vector_cache')\n",
    "vocab.load_vectors(embedding)\n",
    "\n",
    "loader_train = DataLoader(dataset_train,batch_size=hparams['batch_size'],shuffle=True,pin_memory=True,num_workers=3,drop_last=True)\n",
    "loader_test = DataLoader(dataset_test,batch_size=hparams['batch_size'],pin_memory=True,num_workers=0,drop_last=True)"
   ]
  },
  {
   "cell_type": "code",
   "execution_count": 6,
   "metadata": {},
   "outputs": [
    {
     "output_type": "execute_result",
     "data": {
      "text/plain": [
       "KNRMModel(\n",
       "  (CosSim): CosineSimilarity()\n",
       "  (softmax): Softmax(dim=-1)\n",
       "  (learningToRank): Linear(in_features=400, out_features=1, bias=True)\n",
       ")"
      ]
     },
     "metadata": {},
     "execution_count": 6
    }
   ],
   "source": [
    "knrmModel = KNRMModel(hparams=hparams,vocab=vocab).to(device)\n",
    "knrmModel.train()"
   ]
  },
  {
   "cell_type": "code",
   "execution_count": 10,
   "metadata": {},
   "outputs": [
    {
     "output_type": "execute_result",
     "data": {
      "text/plain": [
       "(tensor([[[0., 0., 0.],\n",
       "          [0., 0., 0.]]], device='cuda:0'),\n",
       " tensor([[-46.0517, -46.0517, -46.0517, -33.8028, -22.8028, -13.8028,  -6.8028,\n",
       "           -1.8028,   1.1972,   2.1972,   1.1972,  -1.8028,  -6.8028, -13.8028,\n",
       "          -22.8028, -33.8028, -46.0517, -46.0517, -46.0517, -46.0517]],\n",
       "        device='cuda:0'))"
      ]
     },
     "metadata": {},
     "execution_count": 10
    }
   ],
   "source": [
    "a = torch.zeros((1,2,3),device=device)\n",
    "a, knrmModel._kernel_pooling(a)"
   ]
  },
  {
   "cell_type": "code",
   "execution_count": 4,
   "metadata": {},
   "outputs": [
    {
     "output_type": "stream",
     "name": "stdout",
     "text": [
      "training...\n",
      "epoch 0 , step 390 , loss: 3.4381: : 400it [01:20,  4.98it/s]\n",
      "epoch 1 , step 390 , loss: 1.7071: : 400it [01:21,  4.91it/s]\n",
      "epoch 2 , step 390 , loss: 1.6753: : 400it [01:24,  4.73it/s]\n",
      "epoch 3 , step 390 , loss: 1.6454: : 400it [01:26,  4.64it/s]\n",
      "epoch 4 , step 390 , loss: 1.6731: : 400it [01:26,  4.61it/s]\n",
      "epoch 5 , step 390 , loss: 1.6560: : 400it [01:30,  4.44it/s]\n",
      "epoch 6 , step 390 , loss: 1.6436: : 400it [01:27,  4.57it/s]\n",
      "epoch 7 , step 390 , loss: 1.6694: : 400it [01:28,  4.50it/s]\n",
      "epoch 8 , step 390 , loss: 1.6409: : 400it [01:28,  4.51it/s]\n",
      "epoch 9 , step 390 , loss: 1.6431: : 400it [01:29,  4.49it/s]\n"
     ]
    }
   ],
   "source": [
    "if knrmModel.training:\n",
    "    print(\"training...\")\n",
    "    loss_func = getLoss(knrmModel)\n",
    "    optimizer = optim.Adam(knrmModel.parameters(),lr=0.001)\n",
    "    knrmModel = run_train(knrmModel,loader_train,optimizer,loss_func,epochs=hparams['epochs'], interval=10)"
   ]
  },
  {
   "cell_type": "code",
   "execution_count": 8,
   "metadata": {},
   "outputs": [
    {
     "output_type": "stream",
     "name": "stderr",
     "text": [
      "6it [00:00, 56.60it/s]evaluating...\n",
      "3622it [00:41, 87.49it/s]\n",
      "evaluation results:{'group_auc': 0.5005, 'ndcg@5': 0.2197, 'ndcg@10': 0.2934, 'mean_mrr': 0.2144}\n"
     ]
    },
    {
     "output_type": "execute_result",
     "data": {
      "text/plain": [
       "{'group_auc': 0.5005, 'ndcg@5': 0.2197, 'ndcg@10': 0.2934, 'mean_mrr': 0.2144}"
      ]
     },
     "metadata": {},
     "execution_count": 8
    }
   ],
   "source": [
    "print(\"evaluating...\")\n",
    "knrmModel.eval()\n",
    "knrmModel.cdd_size = 1\n",
    "\n",
    "run_eval(knrmModel,loader_test)"
   ]
  },
  {
   "cell_type": "code",
   "execution_count": null,
   "metadata": {},
   "outputs": [],
   "source": []
  }
 ]
}