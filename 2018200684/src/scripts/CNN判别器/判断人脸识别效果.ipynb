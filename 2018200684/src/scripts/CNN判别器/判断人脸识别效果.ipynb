{
 "cells": [
  {
   "cell_type": "code",
   "execution_count": 2,
   "metadata": {
    "scrolled": true
   },
   "outputs": [],
   "source": [
    "import torch\n",
    "import torch.nn as nn\n",
    "import torch.nn.functional as F\n",
    "import torchvision\n",
    "import torchvision.transforms as transforms\n",
    "import torch.optim as optim\n",
    "import matplotlib.pyplot as plt\n",
    "import PIL\n",
    "import time\n",
    "import numpy as np\n",
    "import os\n",
    "import cv2\n",
    "\n",
    "import hiddenlayer as hl"
   ]
  },
  {
   "cell_type": "code",
   "execution_count": 2,
   "metadata": {
    "scrolled": true
   },
   "outputs": [
    {
     "name": "stdout",
     "output_type": "stream",
     "text": [
      "Dataset ImageFolder\n",
      "    Number of datapoints: 204\n",
      "    Root location: C:\\Users\\Peter King\\python编程项目\\python机器学习\\Tello-Python-master\\Tello_Video\\test_photos\n"
     ]
    }
   ],
   "source": [
    "dataset=torchvision.datasets.ImageFolder(root=r\"C:\\Users\\Peter King\\python编程项目\\python机器学习\\Tello-Python-master\\Tello_Video\\test_photos\")\n",
    "print(dataset)\n",
    "im_list=[]\n",
    "target_list=[]\n",
    "for i in dataset:\n",
    "    im_list.append(np.array(i[0].resize((72,72),PIL.Image.BILINEAR)))\n",
    "    target_list.append(i[1])\n",
    "im_tensor=torch.Tensor(np.array(im_list)).transpose(1,3)\n",
    "target_tensor=torch.Tensor(np.array(target_list))"
   ]
  },
  {
   "cell_type": "code",
   "execution_count": null,
   "metadata": {
    "scrolled": true
   },
   "outputs": [],
   "source": []
  },
  {
   "cell_type": "code",
   "execution_count": 11,
   "metadata": {},
   "outputs": [],
   "source": [
    "#网络的定义\n",
    "class Net(nn.Module):\n",
    "    def __init__(self):\n",
    "        super(Net,self).__init__()\n",
    "        self.conv1 = nn.Conv2d(3,64,3,padding=1)\n",
    "        self.conv2 = nn.Conv2d(64,64,3,padding=1)\n",
    "        self.pool1 = nn.MaxPool2d(2, 2)    #池化层r=36\n",
    "        self.bn1 = nn.BatchNorm2d(64)      #batch内部归一化\n",
    "        self.relu1 = nn.ReLU()             #激活函数\n",
    "\n",
    "        self.conv3 = nn.Conv2d(64,128,3,padding=1)\n",
    "        self.conv4 = nn.Conv2d(128, 128, 3,padding=1)\n",
    "        self.pool2 = nn.MaxPool2d(2, 2)   #r=18\n",
    "        self.bn2 = nn.BatchNorm2d(128)\n",
    "        self.relu2 = nn.ReLU()\n",
    "\n",
    "        self.conv5 = nn.Conv2d(128,128, 3,padding=1)\n",
    "        self.conv6 = nn.Conv2d(128, 128, 1)\n",
    "        self.pool3 = nn.MaxPool2d(2, 2)   #r=9\n",
    "        self.bn3 = nn.BatchNorm2d(128)\n",
    "        self.relu3 = nn.ReLU()\n",
    "\n",
    "        self.fc14 = nn.Linear(10368,256)  #16*128*\n",
    "        self.drop1 = nn.Dropout2d()\n",
    "        self.fc15 = nn.Linear(256,64)\n",
    "        self.drop2 = nn.Dropout2d()\n",
    "        self.fc16 = nn.Linear(64,2)\n",
    "\n",
    "\n",
    "    def forward(self,x):\n",
    "        #x = torch.tensor(x, dtype=torch.float32)  #这里必须注意！要改成float32形式的数据\n",
    "        x = self.conv1(x)\n",
    "        x = self.conv2(x)\n",
    "        x = self.pool1(x)\n",
    "        x = self.bn1(x)\n",
    "        x = self.relu1(x)\n",
    "        #print(x.shape)\n",
    "\n",
    "\n",
    "        x = self.conv3(x)\n",
    "        x = self.conv4(x)\n",
    "        x = self.pool2(x)\n",
    "        x = self.bn2(x)\n",
    "        x = self.relu2(x)\n",
    "        #print(x.shape)\n",
    "\n",
    "        x = self.conv5(x)\n",
    "        x = self.conv6(x)\n",
    "        x = self.pool3(x)\n",
    "        x = self.bn3(x)\n",
    "        x = self.relu3(x)\n",
    "        #print(x.shape)\n",
    "\n",
    "        x = x.view(-1,10368)\n",
    "        #print(x.shape)\n",
    "        x = F.relu(self.fc14(x))\n",
    "        x = self.drop1(x)\n",
    "        x = F.relu(self.fc15(x))\n",
    "        x = self.drop2(x)\n",
    "        x = self.fc16(x)\n",
    "\n",
    "        return x\n",
    "\n",
    "model=Net()"
   ]
  },
  {
   "cell_type": "code",
   "execution_count": null,
   "metadata": {},
   "outputs": [],
   "source": []
  },
  {
   "cell_type": "code",
   "execution_count": null,
   "metadata": {},
   "outputs": [],
   "source": []
  },
  {
   "cell_type": "code",
   "execution_count": 4,
   "metadata": {},
   "outputs": [],
   "source": [
    "from sklearn.model_selection import StratifiedShuffleSplit\n",
    "\n",
    "n_epochs=15\n",
    "ss=StratifiedShuffleSplit(n_splits=n_epochs,test_size=0.25,train_size=0.75)\n",
    "ge=ss.split(im_tensor,target_tensor)"
   ]
  },
  {
   "cell_type": "code",
   "execution_count": 5,
   "metadata": {
    "scrolled": true
   },
   "outputs": [
    {
     "name": "stdout",
     "output_type": "stream",
     "text": [
      "test loss: 0.6659045\r"
     ]
    }
   ],
   "source": [
    "optimizer = optim.Adam(model.parameters(), lr=0.00001)\n",
    "loss_function = nn.CrossEntropyLoss()\n",
    "loss_record=[]\n",
    "for epoch in range(n_epochs):\n",
    "    train_index,test_index=next(ge)\n",
    "    optimizer.zero_grad()\n",
    "    output=model(im_tensor[train_index[:20]])\n",
    "    loss=loss_function(output,target_tensor[train_index[:20]].long())\n",
    "    print(\"train loss: %f\"%loss.item())    \n",
    "    loss_record.append(loss.item())\n",
    "    loss.backward()\n",
    "    optimizer.step()\n",
    "    \n",
    "    \n",
    "    test_loss=loss_function(model(im_tensor[test_index]),target_tensor[test_index].long())\n",
    "    print(\"test loss: %f\"%test_loss.item())\n",
    "    \n",
    "    "
   ]
  },
  {
   "cell_type": "code",
   "execution_count": null,
   "metadata": {},
   "outputs": [],
   "source": []
  },
  {
   "cell_type": "code",
   "execution_count": 22,
   "metadata": {},
   "outputs": [],
   "source": [
    "output_list=[]\n",
    "for i in range(10):\n",
    "    output=model(im_tensor[i:i+16])\n",
    "    for j in output:\n",
    "        output_list.append(j.detach().numpy())"
   ]
  },
  {
   "cell_type": "code",
   "execution_count": null,
   "metadata": {
    "scrolled": true
   },
   "outputs": [],
   "source": []
  },
  {
   "cell_type": "code",
   "execution_count": null,
   "metadata": {},
   "outputs": [],
   "source": []
  },
  {
   "cell_type": "code",
   "execution_count": null,
   "metadata": {},
   "outputs": [],
   "source": []
  }
 ],
 "metadata": {
  "kernelspec": {
   "display_name": "Python 3",
   "language": "python",
   "name": "python3"
  },
  "language_info": {
   "codemirror_mode": {
    "name": "ipython",
    "version": 3
   },
   "file_extension": ".py",
   "mimetype": "text/x-python",
   "name": "python",
   "nbconvert_exporter": "python",
   "pygments_lexer": "ipython3",
   "version": "3.7.0"
  }
 },
 "nbformat": 4,
 "nbformat_minor": 2
}
